{
 "cells": [
  {
   "cell_type": "code",
   "execution_count": 4,
   "metadata": {},
   "outputs": [
    {
     "name": "stdout",
     "output_type": "stream",
     "text": [
      "Type what the shopping list should contain: \n",
      "When you want to quit type 'END' \n",
      "> Coffe\n",
      "> apple\n",
      "> bread\n",
      "> paper\n",
      "> juice\n",
      "> END\n",
      "Your list: \n",
      "Coffe\n",
      "apple\n",
      "bread\n",
      "paper\n",
      "juice\n"
     ]
    }
   ],
   "source": [
    "shopping_list = []\n",
    "\n",
    "print(\"Type what the shopping list should contain: \")\n",
    "print(\"When you want to quit type 'END' \")\n",
    "\n",
    "while True:\n",
    "    new_item = input(\"> \")\n",
    "    if new_item == 'END':\n",
    "        break\n",
    "\n",
    "    shopping_list.append(new_item)\n",
    "\n",
    "print(\"Your list: \")\n",
    "for item in shopping_list:\n",
    "    print(item)"
   ]
  },
  {
   "cell_type": "code",
   "execution_count": 3,
   "metadata": {},
   "outputs": [
    {
     "name": "stdout",
     "output_type": "stream",
     "text": [
      "April\n",
      "August\n",
      "December\n",
      "February\n",
      "January\n",
      "July\n",
      "June\n",
      "March\n",
      "May\n",
      "November\n",
      "October\n",
      "September\n",
      "A\n",
      "A\n",
      "D\n"
     ]
    }
   ],
   "source": [
    "months = ['January', 'February', 'March', 'April', 'May', 'June', 'July', 'August', 'September', 'October', 'November', 'December']\n",
    "\n",
    "\n",
    "months.sort()\n",
    "print(months[0])\n",
    "print(months[1])\n",
    "print(months[2])\n",
    "print(months[3])\n",
    "print(months[4])\n",
    "print(months[5])\n",
    "print(months[6])\n",
    "print(months[7])\n",
    "print(months[8])\n",
    "print(months[9])\n",
    "print(months[10])\n",
    "print(months[11])\n",
    "\n",
    "\n",
    "#print first letter\n",
    "print(months[0][0])\n",
    "print(months[1][0])\n",
    "print(months[2][0])"
   ]
  },
  {
   "cell_type": "code",
   "execution_count": 2,
   "metadata": {},
   "outputs": [
    {
     "name": "stdout",
     "output_type": "stream",
     "text": [
      "['red', 'orange', 'yellow', 'green', 'blue', 'indigo', 'violet']\n"
     ]
    }
   ],
   "source": [
    "colors = ['red', 'orange', 'yellow', 'green', 'blue', 'indigo', 'violet']\n",
    "print(colors)"
   ]
  },
  {
   "cell_type": "code",
   "execution_count": 1,
   "metadata": {},
   "outputs": [
    {
     "name": "stdout",
     "output_type": "stream",
     "text": [
      "fruit:  {'banana', 'cranberry', 'grapes', 'pear'}\n",
      "fruit_second {'cranberry', 'grapes', 'pear', 'banana', 'apple'}\n",
      "set()\n",
      "{'apple'}\n"
     ]
    }
   ],
   "source": [
    "\n",
    "fruit = {'pear', 'banana', 'cranberry', 'grapes'}\n",
    "fruit_second = fruit.copy()\n",
    "\n",
    "fruit_second.add('apple')\n",
    "\n",
    "print('fruit: ', fruit)\n",
    "print('fruit_second', fruit_second)\n",
    "\n",
    "\n",
    "print(fruit.difference(fruit_second))\n",
    "print(fruit_second.difference(fruit))\n",
    "\n"
   ]
  },
  {
   "cell_type": "code",
   "execution_count": null,
   "metadata": {},
   "outputs": [
    {
     "name": "stdout",
     "output_type": "stream",
     "text": [
      "fname and lname: Ida Johnsgaard\n",
      "streetname and streetnumber: something 77\n",
      "zip-code: 5555\n",
      "phone: 55555555\n"
     ]
    }
   ],
   "source": [
    "list = []\n",
    "\n",
    "while True:\n",
    "    name = input(\"fname and lname: \")\n",
    "    street = input(\"streetname and streetnumber: \")\n",
    "    zip = int(input(\"zip-code: \"))\n",
    "    phone = int(input(\"phone: \"))\n",
    "    email = input(\"email-address: \")\n",
    "    \n",
    "    list.append({\n",
    "        \"Name\": name,\n",
    "        \"Street\": street,\n",
    "        \"Zip-code\": zip,\n",
    "        \"Phone\": phone,\n",
    "        \"Email\": email,\n",
    "    })\n",
    "    break\n",
    "    \n",
    "print(list)"
   ]
  },
  {
   "cell_type": "code",
   "execution_count": null,
   "metadata": {},
   "outputs": [],
   "source": []
  },
  {
   "cell_type": "code",
   "execution_count": null,
   "metadata": {},
   "outputs": [],
   "source": []
  }
 ],
 "metadata": {
  "kernelspec": {
   "display_name": "Python 3",
   "language": "python",
   "name": "python3"
  },
  "language_info": {
   "codemirror_mode": {
    "name": "ipython",
    "version": 3
   },
   "file_extension": ".py",
   "mimetype": "text/x-python",
   "name": "python",
   "nbconvert_exporter": "python",
   "pygments_lexer": "ipython3",
   "version": "3.7.2"
  }
 },
 "nbformat": 4,
 "nbformat_minor": 2
}
